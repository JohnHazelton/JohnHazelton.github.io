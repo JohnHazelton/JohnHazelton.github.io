{
 "cells": [
  {
   "cell_type": "code",
   "execution_count": 3,
   "metadata": {},
   "outputs": [
    {
     "data": {
      "text/plain": [
       "True"
      ]
     },
     "execution_count": 3,
     "metadata": {},
     "output_type": "execute_result"
    }
   ],
   "source": [
    "s = 'yellow'\n",
    "t = 'yell'\n",
    "s > t"
   ]
  },
  {
   "cell_type": "code",
   "execution_count": 2,
   "metadata": {},
   "outputs": [
    {
     "name": "stdout",
     "output_type": "stream",
     "text": [
      "Please enter an integer quantity: q\n",
      "Your input cannot be converted to an integer.\n"
     ]
    }
   ],
   "source": [
    "x = input('Please enter an integer quantity: ')\n",
    "\n",
    "try:\n",
    "    y = int(x)\n",
    "    if y % 2 == 0:\n",
    "        print(x + ' is an ____ integer.')\n",
    "    else:\n",
    "        print(x + ' is an ____ integer.')\n",
    "except:\n",
    "    print('Your input cannot be converted to an integer.')"
   ]
  },
  {
   "cell_type": "code",
   "execution_count": 16,
   "metadata": {},
   "outputs": [
    {
     "name": "stdout",
     "output_type": "stream",
     "text": [
      "Please enter an integer quantity: 5\n"
     ]
    },
    {
     "data": {
      "text/plain": [
       "str"
      ]
     },
     "execution_count": 16,
     "metadata": {},
     "output_type": "execute_result"
    }
   ],
   "source": [
    "x = input('Please enter an integer quantity: ')\n",
    "type(x)"
   ]
  },
  {
   "cell_type": "code",
   "execution_count": 17,
   "metadata": {},
   "outputs": [],
   "source": [
    "s = 'jump'\n",
    "t = 'jumprope'\n",
    "u = 'jumping'\n",
    "v = 'ready'\n",
    "w = 'read'\n",
    "x = 'red'"
   ]
  },
  {
   "cell_type": "code",
   "execution_count": 30,
   "metadata": {},
   "outputs": [
    {
     "name": "stdout",
     "output_type": "stream",
     "text": [
      "Please enter some characters: 7\n",
      "The color is brown.\n"
     ]
    }
   ],
   "source": [
    "x = input('Please enter some characters: ')\n",
    "try:\n",
    "    y = float(x)\n",
    "    if y < 100:\n",
    "        print('The color is brown.')\n",
    "    elif y > 200:\n",
    "        print('The color is green.')\n",
    "    elif y % 2 == 0:\n",
    "        print('even')\n",
    "    else:\n",
    "        print('odd')\n",
    "except:\n",
    "    print('The input cannot be converted to a numerical data type.')"
   ]
  },
  {
   "cell_type": "code",
   "execution_count": 3,
   "metadata": {},
   "outputs": [
    {
     "data": {
      "text/plain": [
       "[]"
      ]
     },
     "execution_count": 3,
     "metadata": {},
     "output_type": "execute_result"
    }
   ],
   "source": [
    "list(range(0,-1,5))"
   ]
  },
  {
   "cell_type": "code",
   "execution_count": null,
   "metadata": {},
   "outputs": [],
   "source": []
  }
 ],
 "metadata": {
  "kernelspec": {
   "display_name": "Python 3",
   "language": "python",
   "name": "python3"
  },
  "language_info": {
   "codemirror_mode": {
    "name": "ipython",
    "version": 3
   },
   "file_extension": ".py",
   "mimetype": "text/x-python",
   "name": "python",
   "nbconvert_exporter": "python",
   "pygments_lexer": "ipython3",
   "version": "3.8.3"
  }
 },
 "nbformat": 4,
 "nbformat_minor": 4
}
